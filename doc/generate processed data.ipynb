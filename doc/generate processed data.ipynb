{
 "cells": [
  {
   "cell_type": "code",
   "execution_count": 1,
   "metadata": {},
   "outputs": [],
   "source": [
    "import pandas as pd"
   ]
  },
  {
   "cell_type": "code",
   "execution_count": 2,
   "metadata": {},
   "outputs": [
    {
     "data": {
      "text/html": [
       "<div>\n",
       "<style scoped>\n",
       "    .dataframe tbody tr th:only-of-type {\n",
       "        vertical-align: middle;\n",
       "    }\n",
       "\n",
       "    .dataframe tbody tr th {\n",
       "        vertical-align: top;\n",
       "    }\n",
       "\n",
       "    .dataframe thead th {\n",
       "        text-align: right;\n",
       "    }\n",
       "</style>\n",
       "<table border=\"1\" class=\"dataframe\">\n",
       "  <thead>\n",
       "    <tr style=\"text-align: right;\">\n",
       "      <th></th>\n",
       "      <th>song</th>\n",
       "      <th>year</th>\n",
       "      <th>artist</th>\n",
       "      <th>genre</th>\n",
       "      <th>lyrics</th>\n",
       "      <th>decade</th>\n",
       "      <th>stemmed lyrics</th>\n",
       "    </tr>\n",
       "  </thead>\n",
       "  <tbody>\n",
       "    <tr>\n",
       "      <th>0</th>\n",
       "      <td>when-you-were-with-me</td>\n",
       "      <td>2009</td>\n",
       "      <td>a</td>\n",
       "      <td>Hip-Hop</td>\n",
       "      <td>I stopped by the house we called our home\\nIt ...</td>\n",
       "      <td>2000</td>\n",
       "      <td>stop hous call home littl rundown grass overgr...</td>\n",
       "    </tr>\n",
       "    <tr>\n",
       "      <th>1</th>\n",
       "      <td>careless-whisper</td>\n",
       "      <td>2009</td>\n",
       "      <td>a</td>\n",
       "      <td>Hip-Hop</td>\n",
       "      <td>I feel so unsure\\nAs I take your hand and lead...</td>\n",
       "      <td>2000</td>\n",
       "      <td>feel unsur take hand lead danc floor music die...</td>\n",
       "    </tr>\n",
       "    <tr>\n",
       "      <th>2</th>\n",
       "      <td>2-59</td>\n",
       "      <td>2007</td>\n",
       "      <td>a</td>\n",
       "      <td>Hip-Hop</td>\n",
       "      <td>Mark:] Sunday football I got boot off the pitc...</td>\n",
       "      <td>2000</td>\n",
       "      <td>mark sunday footbal got boot pitch peopl gambl...</td>\n",
       "    </tr>\n",
       "    <tr>\n",
       "      <th>3</th>\n",
       "      <td>power-of-desire</td>\n",
       "      <td>2007</td>\n",
       "      <td>a</td>\n",
       "      <td>Hip-Hop</td>\n",
       "      <td>[Chris:] Fallin' for a fantasy\\nI threw away m...</td>\n",
       "      <td>2000</td>\n",
       "      <td>chri fallin fantasi threw away destini nt know...</td>\n",
       "    </tr>\n",
       "    <tr>\n",
       "      <th>4</th>\n",
       "      <td>you-re-not-in-love</td>\n",
       "      <td>2007</td>\n",
       "      <td>a</td>\n",
       "      <td>Hip-Hop</td>\n",
       "      <td>something in the way we touch\\nyou hold my han...</td>\n",
       "      <td>2000</td>\n",
       "      <td>someth way touch hold hand hold back much some...</td>\n",
       "    </tr>\n",
       "  </tbody>\n",
       "</table>\n",
       "</div>"
      ],
      "text/plain": [
       "                    song  year artist    genre  \\\n",
       "0  when-you-were-with-me  2009      a  Hip-Hop   \n",
       "1       careless-whisper  2009      a  Hip-Hop   \n",
       "2                   2-59  2007      a  Hip-Hop   \n",
       "3        power-of-desire  2007      a  Hip-Hop   \n",
       "4     you-re-not-in-love  2007      a  Hip-Hop   \n",
       "\n",
       "                                              lyrics  decade  \\\n",
       "0  I stopped by the house we called our home\\nIt ...    2000   \n",
       "1  I feel so unsure\\nAs I take your hand and lead...    2000   \n",
       "2  Mark:] Sunday football I got boot off the pitc...    2000   \n",
       "3  [Chris:] Fallin' for a fantasy\\nI threw away m...    2000   \n",
       "4  something in the way we touch\\nyou hold my han...    2000   \n",
       "\n",
       "                                      stemmed lyrics  \n",
       "0  stop hous call home littl rundown grass overgr...  \n",
       "1  feel unsur take hand lead danc floor music die...  \n",
       "2  mark sunday footbal got boot pitch peopl gambl...  \n",
       "3  chri fallin fantasi threw away destini nt know...  \n",
       "4  someth way touch hold hand hold back much some...  "
      ]
     },
     "execution_count": 2,
     "metadata": {},
     "output_type": "execute_result"
    }
   ],
   "source": [
    "lyrics = pd.read_csv('lyrics.csv')\n",
    "lyrics['decade'] = lyrics['year']//10*10\n",
    "stemmed_lyrics = pd.read_csv('stemmed lyrics.csv', header = None)\n",
    "lyrics['stemmed lyrics'] = stemmed_lyrics\n",
    "lyrics.to_csv('processed data.csv', header = True, index = False)"
   ]
  },
  {
   "cell_type": "code",
   "execution_count": null,
   "metadata": {},
   "outputs": [],
   "source": []
  }
 ],
 "metadata": {
  "kernelspec": {
   "display_name": "Python 3",
   "language": "python",
   "name": "python3"
  },
  "language_info": {
   "codemirror_mode": {
    "name": "ipython",
    "version": 3
   },
   "file_extension": ".py",
   "mimetype": "text/x-python",
   "name": "python",
   "nbconvert_exporter": "python",
   "pygments_lexer": "ipython3",
   "version": "3.7.1"
  }
 },
 "nbformat": 4,
 "nbformat_minor": 2
}
